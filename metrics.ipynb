{
 "cells": [
  {
   "cell_type": "code",
   "execution_count": 1,
   "metadata": {},
   "outputs": [],
   "source": [
    "import pickle\n",
    "import statistics as st\n",
    "import csv"
   ]
  },
  {
   "cell_type": "code",
   "execution_count": 2,
   "metadata": {},
   "outputs": [],
   "source": [
    "sb_metrics = open(f\"./samba_type_metrics.pkl\", \"rb\")\n",
    "samba_type_metrics = pickle.load(sb_metrics)\n",
    "sb_metrics.close()"
   ]
  },
  {
   "cell_type": "markdown",
   "metadata": {},
   "source": [
    "tipo de metricas:\n",
    "mediana de todos os arquivos de instrumentos por tipo de samba\n",
    "* por quantidade de instrumentos que tinha na mistura"
   ]
  },
  {
   "cell_type": "code",
   "execution_count": 3,
   "metadata": {},
   "outputs": [],
   "source": [
    "\n",
    "header = ['instrument','samba','mix','sdr','isr','sir','sar','perm']\n",
    "with open('statisticsv3.csv', 'a', encoding='UTF8') as f:\n",
    "    writer = csv.writer(f)\n",
    "    # write the header\n",
    "    writer.writerow(header)\n",
    "    for type_samba in samba_type_metrics.keys():\n",
    "        \n",
    "        for mix in samba_type_metrics[type_samba].keys():\n",
    "            \n",
    "            for inst in samba_type_metrics[type_samba][mix].keys():\n",
    "                \n",
    "                m = samba_type_metrics[type_samba][mix][inst]\n",
    "                writer.writerow([inst,type_samba,mix,st.median(m[\"sdr\"]),st.median(m[\"isr\"]),st.median(m[\"sir\"]),st.median(m[\"sar\"]),st.median(m[\"perm\"])])\n",
    "                #for metric in samba_type_metrics[type_samba][mix][inst].keys():\n",
    "                #    print(f'{metric}: {st.median(samba_type_metrics[type_samba][mix][inst][metric]):.2f}')"
   ]
  },
  {
   "cell_type": "code",
   "execution_count": 4,
   "metadata": {},
   "outputs": [
    {
     "data": {
      "text/plain": [
       "{'sdr': [12.74702885026349,\n",
       "  9.883698037986937,\n",
       "  15.336392236389468,\n",
       "  15.213979179053922,\n",
       "  18.05520043881505,\n",
       "  16.023043410637655,\n",
       "  28.559889140459724,\n",
       "  14.052314371424854,\n",
       "  12.341703667493778],\n",
       " 'isr': [23.65717082429589,\n",
       "  24.901677303336363,\n",
       "  19.302228440513154,\n",
       "  21.18914607069408,\n",
       "  35.059113773100286,\n",
       "  20.50399884853304,\n",
       "  32.44865726918101,\n",
       "  16.6802095675627,\n",
       "  13.678984057356065],\n",
       " 'sir': [15.591101796331543,\n",
       "  12.718986150421923,\n",
       "  23.44482067232383,\n",
       "  19.305336147858593,\n",
       "  21.549077935323865,\n",
       "  23.576875837540406,\n",
       "  54.04676911254513,\n",
       "  26.5157592478069,\n",
       "  34.75723942291919],\n",
       " 'sar': [16.021542657705936,\n",
       "  12.955063746080388,\n",
       "  18.447567107248737,\n",
       "  19.133264423949296,\n",
       "  20.65904381401198,\n",
       "  19.00458205797054,\n",
       "  30.815527057097214,\n",
       "  17.46511083333897,\n",
       "  17.451431777434703],\n",
       " 'perm': [0, 0, 0, 0, 0, 0, 0, 0, 0]}"
      ]
     },
     "execution_count": 4,
     "metadata": {},
     "output_type": "execute_result"
    }
   ],
   "source": [
    "samba_type_metrics['SA'][2]['AG']"
   ]
  },
  {
   "cell_type": "code",
   "execution_count": 5,
   "metadata": {},
   "outputs": [
    {
     "ename": "NameError",
     "evalue": "name 'num' is not defined",
     "output_type": "error",
     "traceback": [
      "\u001b[0;31m---------------------------------------------------------------------------\u001b[0m",
      "\u001b[0;31mNameError\u001b[0m                                 Traceback (most recent call last)",
      "\u001b[0;32m/tmp/ipykernel_530/3724754400.py\u001b[0m in \u001b[0;36m<module>\u001b[0;34m\u001b[0m\n\u001b[0;32m----> 1\u001b[0;31m \u001b[0msamba_type_metrics\u001b[0m\u001b[0;34m[\u001b[0m\u001b[0mtype_samba\u001b[0m\u001b[0;34m]\u001b[0m\u001b[0;34m[\u001b[0m\u001b[0mnum\u001b[0m\u001b[0;34m]\u001b[0m\u001b[0;34m[\u001b[0m\u001b[0;34m'AG'\u001b[0m\u001b[0;34m]\u001b[0m\u001b[0;34m.\u001b[0m\u001b[0mkeys\u001b[0m\u001b[0;34m(\u001b[0m\u001b[0;34m)\u001b[0m\u001b[0;34m\u001b[0m\u001b[0;34m\u001b[0m\u001b[0m\n\u001b[0m",
      "\u001b[0;31mNameError\u001b[0m: name 'num' is not defined"
     ]
    }
   ],
   "source": [
    "samba_type_metrics[type_samba][num]['AG'].keys()"
   ]
  }
 ],
 "metadata": {
  "kernelspec": {
   "display_name": "Python 3.8.10 64-bit",
   "language": "python",
   "name": "python3"
  },
  "language_info": {
   "codemirror_mode": {
    "name": "ipython",
    "version": 3
   },
   "file_extension": ".py",
   "mimetype": "text/x-python",
   "name": "python",
   "nbconvert_exporter": "python",
   "pygments_lexer": "ipython3",
   "version": "3.8.10"
  },
  "orig_nbformat": 4,
  "vscode": {
   "interpreter": {
    "hash": "916dbcbb3f70747c44a77c7bcd40155683ae19c65e1c03b4aa3499c5328201f1"
   }
  }
 },
 "nbformat": 4,
 "nbformat_minor": 2
}
